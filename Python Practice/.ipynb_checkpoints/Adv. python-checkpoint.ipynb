{
 "cells": [
  {
   "cell_type": "markdown",
   "metadata": {},
   "source": [
    "### A notebook about some 'on-the-go' python concepts\n",
    "\n",
    "Name: Murad Popattia\n",
    "Date: 16/11/2021"
   ]
  },
  {
   "cell_type": "markdown",
   "metadata": {},
   "source": [
    "### Decorators in Python\n",
    "\n",
    "Decorator allows us to wrap function within a function and extend its behaviour"
   ]
  },
  {
   "cell_type": "code",
   "execution_count": 6,
   "metadata": {},
   "outputs": [
    {
     "name": "stdout",
     "output_type": "stream",
     "text": [
      "Time taken to execute the function: 5.08s\n"
     ]
    }
   ],
   "source": [
    "# timing a for loop\n",
    "import time\n",
    "\n",
    "def timing_loop(x):\n",
    "    s = time.time()\n",
    "    for i in range(x):\n",
    "        time.sleep(0.5)\n",
    "    e = time.time()\n",
    "    \n",
    "    print(f'Time taken to execute the function: {round(e-s,2)}s')\n",
    "    \n",
    "timing_loop(10)"
   ]
  },
  {
   "cell_type": "markdown",
   "metadata": {},
   "source": [
    "However, imagine if we want to time several functions. Hence adding the s, e and all such variables would be redudant. To avoid that we use decorators!"
   ]
  },
  {
   "cell_type": "code",
   "execution_count": 26,
   "metadata": {},
   "outputs": [],
   "source": [
    "def time_func(func):\n",
    "    def wrapper(*args, **kwargs):\n",
    "        s = time.time()\n",
    "        func(*args, **kwargs) # executing the func here.\n",
    "        e = time.time()\n",
    "    \n",
    "        print(f'{func.__name__} taken to execute the function: {round(e-s,2)}s') \n",
    "    \n",
    "    return wrapper # we need to return the wrapper here as well\n",
    "\n",
    "@time_func\n",
    "def one_sec_func(x):\n",
    "    for i in range(x):\n",
    "        time.sleep(0.5)\n",
    "        \n",
    "@time_func\n",
    "def two_sec_func(x):\n",
    "    for i in range(x):\n",
    "        time.sleep(1)"
   ]
  },
  {
   "cell_type": "code",
   "execution_count": 28,
   "metadata": {},
   "outputs": [
    {
     "name": "stdout",
     "output_type": "stream",
     "text": [
      "one_sec_func taken to execute the function: 1.03s\n",
      "two_sec_func taken to execute the function: 2.02s\n"
     ]
    }
   ],
   "source": [
    "one_sec_func(2)\n",
    "two_sec_func(2)"
   ]
  },
  {
   "cell_type": "markdown",
   "metadata": {},
   "source": [
    "### Understanding \\*args and \\*\\*kwargs"
   ]
  },
  {
   "cell_type": "markdown",
   "metadata": {},
   "source": [
    "\\*args allow a function to take any number of positional arguments.\n",
    "\n",
    "There are two types of args\n",
    "- Positional Arguments: declared by name only\n",
    "- Keyword Arguments: declared by name and default value\n",
    "    \n",
    "- Python wants us to put keyword arguments after positional arguments\n",
    "- \\*\\*kwargs collect all the keyword arguments that are not explicitly defined. Thus, it does the same operation as *args but for keyword arguments\n",
    "- We can use both \\*args and \\*\\*kwargs in a function but *args must be put before \\*\\*kwargs \n",
    "- We use * for unpacking lists and \\*\\* for unpacking dicts"
   ]
  },
  {
   "cell_type": "code",
   "execution_count": 36,
   "metadata": {
    "pycharm": {
     "is_executing": false,
     "name": "#%%\n"
    }
   },
   "outputs": [],
   "source": [
    "def add(*args):\n",
    "    _sum = 0\n",
    "    for i in args:\n",
    "        _sum += i\n",
    "    return _sum"
   ]
  },
  {
   "cell_type": "code",
   "execution_count": 34,
   "metadata": {
    "pycharm": {
     "is_executing": false,
     "name": "#%%\n"
    }
   },
   "outputs": [
    {
     "name": "stdout",
     "output_type": "stream",
     "text": [
      "1\n",
      "3\n",
      "6\n"
     ]
    }
   ],
   "source": [
    "print(add(1))\n",
    "print(add(1,2))\n",
    "print(add(1,2,3))"
   ]
  },
  {
   "cell_type": "code",
   "execution_count": 59,
   "metadata": {},
   "outputs": [
    {
     "name": "stdout",
     "output_type": "stream",
     "text": [
      "(1, 2, 3)\n",
      "{'a': 1, 'b': 2, 'c': 3}\n"
     ]
    }
   ],
   "source": [
    "# Visualizing how args and kwargs are received\n",
    "def vis_args(*args):\n",
    "    print(args)\n",
    "    \n",
    "def vis_kwargs(**kwargs):\n",
    "    print(kwargs)\n",
    "    \n",
    "vis_args(1,2,3)\n",
    "vis_kwargs(a=1, b=2, c=3)\n",
    "# vis_args(a=1, b=2, c=3) -> vis_args() got an unexpected keyword argument 'a'\n",
    "# vis_kwargs(1,2,3) -> vis_kwargs() takes 0 positional arguments but 3 were given"
   ]
  },
  {
   "cell_type": "code",
   "execution_count": 60,
   "metadata": {},
   "outputs": [
    {
     "name": "stdout",
     "output_type": "stream",
     "text": [
      "1\n",
      "3\n",
      "6\n"
     ]
    }
   ],
   "source": [
    "# We can also send by unpacking a list\n",
    "l = [[1], [1,2], [1,2,3]]\n",
    "\n",
    "for test in l:\n",
    "    print(add(*test))"
   ]
  },
  {
   "cell_type": "code",
   "execution_count": 74,
   "metadata": {},
   "outputs": [],
   "source": [
    "l = {\n",
    "    'a': 1,\n",
    "    'b': 2,\n",
    "    'c': 3\n",
    "}\n",
    "\n",
    "def test_kwarg(a=0,b=0,c=0):\n",
    "    print(a,b,c)\n",
    "    if a != 1 or b != 2 or c != 3:\n",
    "        print(\"Test failed\")\n",
    "    else:\n",
    "        print(\"Test passed\")"
   ]
  },
  {
   "cell_type": "code",
   "execution_count": 77,
   "metadata": {},
   "outputs": [
    {
     "name": "stdout",
     "output_type": "stream",
     "text": [
      "{'a': 1, 'b': 2, 'c': 3} 0 0\n",
      "Test failed\n"
     ]
    }
   ],
   "source": [
    "test_kwarg(l)"
   ]
  },
  {
   "cell_type": "code",
   "execution_count": 76,
   "metadata": {},
   "outputs": [
    {
     "name": "stdout",
     "output_type": "stream",
     "text": [
      "a b c\n",
      "Test failed\n"
     ]
    }
   ],
   "source": [
    "test_kwarg(*l)"
   ]
  },
  {
   "cell_type": "code",
   "execution_count": 78,
   "metadata": {},
   "outputs": [
    {
     "name": "stdout",
     "output_type": "stream",
     "text": [
      "1 2 3\n",
      "Test passed\n"
     ]
    }
   ],
   "source": [
    "test_kwarg(**l)"
   ]
  }
 ],
 "metadata": {
  "kernelspec": {
   "display_name": "Python 3 (ipykernel)",
   "language": "python",
   "name": "python3"
  },
  "language_info": {
   "codemirror_mode": {
    "name": "ipython",
    "version": 3
   },
   "file_extension": ".py",
   "mimetype": "text/x-python",
   "name": "python",
   "nbconvert_exporter": "python",
   "pygments_lexer": "ipython3",
   "version": "3.7.11"
  },
  "pycharm": {
   "stem_cell": {
    "cell_type": "raw",
    "metadata": {
     "collapsed": false
    },
    "source": []
   }
  }
 },
 "nbformat": 4,
 "nbformat_minor": 1
}
