{
 "cells": [
  {
   "cell_type": "markdown",
   "id": "9c380d31-9596-4488-8274-2027a1c388b4",
   "metadata": {},
   "source": [
    "### Data Augmentation using Albumentations\n",
    "\n",
    "Benefits:\n",
    "- Faster than torch.vision on all benchmarks\n",
    "- Can also deal with other tasks as well such as \n",
    "\n",
    "**Date:** 13/11/2021  \n",
    "**Author:** Murad Popattia"
   ]
  },
  {
   "cell_type": "code",
   "execution_count": null,
   "id": "a2b33112-477e-4b68-8ce7-d01f0b97175e",
   "metadata": {},
   "outputs": [],
   "source": []
  }
 ],
 "metadata": {
  "kernelspec": {
   "display_name": "Python 3 (ipykernel)",
   "language": "python",
   "name": "python3"
  },
  "language_info": {
   "codemirror_mode": {
    "name": "ipython",
    "version": 3
   },
   "file_extension": ".py",
   "mimetype": "text/x-python",
   "name": "python",
   "nbconvert_exporter": "python",
   "pygments_lexer": "ipython3",
   "version": "3.7.11"
  }
 },
 "nbformat": 4,
 "nbformat_minor": 5
}
