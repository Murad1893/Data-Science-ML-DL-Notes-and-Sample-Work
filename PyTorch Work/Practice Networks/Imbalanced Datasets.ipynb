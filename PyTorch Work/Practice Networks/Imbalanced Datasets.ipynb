{
 "cells": [
  {
   "cell_type": "markdown",
   "id": "c2b2874d-5bc2-49f0-a01f-395e339ee061",
   "metadata": {},
   "source": [
    "### Dealing with imbalanced dataset\n",
    "\n",
    "**Date:** 14/11/2021  \n",
    "**Author:** Murad Popattia\n",
    "\n",
    "Methods for dealing with imbalanced datasets\n",
    "- Oversampling\n",
    "- Class weighting (we give higher priority to minority class in the loss function i.e mult loss by some number)"
   ]
  },
  {
   "cell_type": "code",
   "execution_count": 12,
   "id": "da03d98c-8983-4b58-b74e-30fe089f0341",
   "metadata": {},
   "outputs": [],
   "source": [
    "import torch\n",
    "import torchvision.datasets as datasets\n",
    "import os\n",
    "from torch.utils.data import WeightedRandomSampler, DataLoader\n",
    "import torchvision.transforms as transforms\n",
    "import torch.nn as nn"
   ]
  },
  {
   "cell_type": "code",
   "execution_count": 8,
   "id": "71ae524f-effb-4d03-85d8-1275d347fbcd",
   "metadata": {},
   "outputs": [],
   "source": [
    "# Class weighting: \n",
    "# For instance we have 50 examples for class 1 and 1 example for class 2 so,\n",
    "#     class 1 -> x1\n",
    "#     class 2 -> x50 ...\n",
    "\n",
    "# loss_fn = nn.CrossEntropyLoss(weight=torch.tensor([1,50])) etc.."
   ]
  },
  {
   "cell_type": "code",
   "execution_count": 41,
   "id": "cd046b31-5c66-4745-96c8-b0bdaa872f7e",
   "metadata": {},
   "outputs": [],
   "source": [
    "def get_loader(root_dir, batch_size):\n",
    "    my_transforms = transforms.Compose([\n",
    "        transforms.Resize((224,224)),\n",
    "        transforms.ToTensor()\n",
    "    ])\n",
    "\n",
    "    # making the dataset using ImageFolder class in torch\n",
    "    dataset = datasets.ImageFolder(root_dir, transform=my_transforms)\n",
    "#     class_weights = [1,50] or class_weights = [1/50,1] ... both mean the same\n",
    "    class_weights = []\n",
    "    # generalizing the class weights for each class as we an have x different classes\n",
    "    \n",
    "    for root, subdir, files in os.walk(root_dir):\n",
    "        if len(files) > 0:\n",
    "            class_weights.append(1/len(files)) # so in case of 1 file, we assign it 1 else 1 / num_files\n",
    "    \n",
    "    sample_weights = [0] * len(dataset) # first initialize the sample weight 0 for all samples\n",
    "    \n",
    "    # setting the class_weight for each sample\n",
    "    for idx, (data, label) in enumerate(dataset):\n",
    "        class_weight = class_weights[label] # fetch the class_weight\n",
    "        sample_weights[idx] = class_weight\n",
    "        \n",
    "    # for WeightedRandomSampler we need to specify weight for each sample in the dataset\n",
    "    sampler = WeightedRandomSampler(sample_weights, num_samples = len(sample_weights), replacement=True)\n",
    "    loader = DataLoader(dataset, batch_size=batch_size, sampler=sampler)\n",
    "    \n",
    "    return loader"
   ]
  },
  {
   "cell_type": "code",
   "execution_count": 42,
   "id": "535642da-f7d3-4401-bd53-74951204232e",
   "metadata": {},
   "outputs": [],
   "source": [
    "loader = get_loader(\"../datasets/imbalance_dataset\", 8)"
   ]
  },
  {
   "cell_type": "markdown",
   "id": "b68ca33c-d3d5-4b96-a63d-315cafe847a5",
   "metadata": {},
   "source": [
    "##### With replacement = False"
   ]
  },
  {
   "cell_type": "code",
   "execution_count": 24,
   "id": "b1460261-6e2a-4058-9c7b-b75bacfb50b9",
   "metadata": {},
   "outputs": [
    {
     "name": "stdout",
     "output_type": "stream",
     "text": [
      "tensor([0, 0, 1, 0, 0, 0, 0, 0])\n",
      "tensor([0, 0, 0, 0, 0, 0, 0, 0])\n",
      "tensor([0, 0, 0, 0, 0, 0, 0, 0])\n",
      "tensor([0, 0, 0, 0, 0, 0, 0, 0])\n",
      "tensor([0, 0, 0, 0, 0, 0, 0, 0])\n",
      "tensor([0, 0, 0, 0, 0, 0, 0, 0])\n",
      "tensor([0, 0, 0])\n"
     ]
    }
   ],
   "source": [
    "for data, labels in loader:\n",
    "    print(labels)"
   ]
  },
  {
   "cell_type": "markdown",
   "id": "0d60599b-d1d3-475e-bd0e-c04e6636634c",
   "metadata": {},
   "source": [
    "##### With replacement = True"
   ]
  },
  {
   "cell_type": "code",
   "execution_count": 40,
   "id": "2eb2e202-6064-4961-ac1a-ed48263e1ffb",
   "metadata": {},
   "outputs": [
    {
     "name": "stdout",
     "output_type": "stream",
     "text": [
      "tensor([1, 1, 1, 0, 0, 1, 1, 1])\n",
      "tensor([1, 1, 0, 1, 1, 0, 1, 1])\n",
      "tensor([0, 1, 1, 0, 1, 1, 0, 0])\n",
      "tensor([1, 0, 0, 0, 0, 1, 0, 0])\n",
      "tensor([1, 1, 1, 1, 0, 0, 1, 0])\n",
      "tensor([1, 0, 0, 1, 0, 1, 1, 0])\n",
      "tensor([1, 0, 1])\n"
     ]
    }
   ],
   "source": [
    "for data, labels in loader:\n",
    "    print(labels)"
   ]
  },
  {
   "cell_type": "markdown",
   "id": "80f8db33-e87f-48fb-958f-d29ad9c981c1",
   "metadata": {},
   "source": [
    "##### Counting the number of samples we get"
   ]
  },
  {
   "cell_type": "code",
   "execution_count": 43,
   "id": "ab4e8fd1-dd6c-455c-809c-c9544df3e9ee",
   "metadata": {},
   "outputs": [
    {
     "name": "stdout",
     "output_type": "stream",
     "text": [
      "Rerievers: 26, Hounds: 24\n"
     ]
    }
   ],
   "source": [
    "num_retrievers = 0\n",
    "num_hounds = 0\n",
    "\n",
    "for epochs in range(10):\n",
    "    for data, labels in loader:\n",
    "        num_retrievers += torch.sum(labels==0)\n",
    "        num_hounds += torch.sum(labels==1)\n",
    "\n",
    "print(f\"Rerievers: {num_retrievers//10}, Hounds: {num_hounds//10}\")"
   ]
  },
  {
   "cell_type": "markdown",
   "id": "df9661f8-ad5a-4361-bc2f-aa23e4426019",
   "metadata": {},
   "source": [
    "So we can see that the dataset is now balanced"
   ]
  }
 ],
 "metadata": {
  "kernelspec": {
   "display_name": "Python 3 (ipykernel)",
   "language": "python",
   "name": "python3"
  },
  "language_info": {
   "codemirror_mode": {
    "name": "ipython",
    "version": 3
   },
   "file_extension": ".py",
   "mimetype": "text/x-python",
   "name": "python",
   "nbconvert_exporter": "python",
   "pygments_lexer": "ipython3",
   "version": "3.7.11"
  }
 },
 "nbformat": 4,
 "nbformat_minor": 5
}
