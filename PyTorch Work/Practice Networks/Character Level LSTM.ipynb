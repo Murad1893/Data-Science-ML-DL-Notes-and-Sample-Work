{
 "cells": [
  {
   "cell_type": "markdown",
   "id": "8b6e12d5-671e-443a-afec-eb86ec5ace65",
   "metadata": {},
   "source": [
    "### Character Level LSTM using Text Generator\n",
    "\n",
    "**Date:** 16/11/2021  \n",
    "**Author:** Murad Popattia"
   ]
  },
  {
   "cell_type": "code",
   "execution_count": null,
   "id": "375fd02d-b055-4f2c-aab5-c0f85a1437ae",
   "metadata": {},
   "outputs": [],
   "source": []
  }
 ],
 "metadata": {
  "kernelspec": {
   "display_name": "Python 3 (ipykernel)",
   "language": "python",
   "name": "python3"
  },
  "language_info": {
   "codemirror_mode": {
    "name": "ipython",
    "version": 3
   },
   "file_extension": ".py",
   "mimetype": "text/x-python",
   "name": "python",
   "nbconvert_exporter": "python",
   "pygments_lexer": "ipython3",
   "version": "3.7.11"
  }
 },
 "nbformat": 4,
 "nbformat_minor": 5
}
