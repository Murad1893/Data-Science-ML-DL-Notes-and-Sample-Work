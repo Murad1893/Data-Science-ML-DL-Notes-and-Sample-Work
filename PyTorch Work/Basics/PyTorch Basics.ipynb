{
 "cells": [
  {
   "cell_type": "markdown",
   "id": "dc72f712-fb87-4e23-afc8-b55fcf5bb5bc",
   "metadata": {},
   "source": [
    "### Pytorch Tensors Introduction\n",
    "\n",
    "**Date:** 28/10/2021  \n",
    "**Author:** Murad Popattia"
   ]
  },
  {
   "cell_type": "code",
   "execution_count": 1,
   "id": "6fbf5a92-ac3e-4c73-8942-05ee6e894fa0",
   "metadata": {},
   "outputs": [],
   "source": [
    "import torch\n",
    "\n",
    "device = \"cuda\" if torch.cuda.is_available() else \"cpu\""
   ]
  },
  {
   "cell_type": "code",
   "execution_count": 5,
   "id": "6abc2ec9-0043-4ad1-bb00-788120599cdb",
   "metadata": {},
   "outputs": [],
   "source": [
    "my_tensor = torch.rand(3,3, device = device)"
   ]
  },
  {
   "cell_type": "code",
   "execution_count": 6,
   "id": "1b6c3d39-6aa8-47b0-b20a-ed6784db2c74",
   "metadata": {},
   "outputs": [
    {
     "data": {
      "text/plain": [
       "tensor([[0.2149, 0.4197, 0.3122],\n",
       "        [0.7149, 0.4330, 0.4272],\n",
       "        [0.4679, 0.9652, 0.5048]], device='cuda:0')"
      ]
     },
     "execution_count": 6,
     "metadata": {},
     "output_type": "execute_result"
    }
   ],
   "source": [
    "my_tensor"
   ]
  },
  {
   "cell_type": "code",
   "execution_count": 7,
   "id": "7494dcf6-d4b5-43f2-8a90-5ed704f5a81d",
   "metadata": {},
   "outputs": [
    {
     "data": {
      "text/plain": [
       "device(type='cuda', index=0)"
      ]
     },
     "execution_count": 7,
     "metadata": {},
     "output_type": "execute_result"
    }
   ],
   "source": [
    "my_tensor.device"
   ]
  },
  {
   "cell_type": "markdown",
   "id": "9e2f0aad-26b7-42a2-8a83-24728f24e06b",
   "metadata": {},
   "source": [
    "### Checking CUDA Version"
   ]
  },
  {
   "cell_type": "code",
   "execution_count": 8,
   "id": "170c368d-94a5-4dd0-9e30-5f8e72d390d1",
   "metadata": {
    "tags": []
   },
   "outputs": [
    {
     "name": "stdout",
     "output_type": "stream",
     "text": [
      "nvcc: NVIDIA (R) Cuda compiler driver\n",
      "Copyright (c) 2005-2020 NVIDIA Corporation\n",
      "Built on Tue_Sep_15_19:12:04_Pacific_Daylight_Time_2020\n",
      "Cuda compilation tools, release 11.1, V11.1.74\n",
      "Build cuda_11.1.relgpu_drvr455TC455_06.29069683_0\n"
     ]
    }
   ],
   "source": [
    "!nvcc --version"
   ]
  },
  {
   "cell_type": "markdown",
   "id": "a3caae9c-459a-4591-b6d2-5054a8f3ca13",
   "metadata": {},
   "source": [
    "### Intializing Tensors"
   ]
  },
  {
   "cell_type": "code",
   "execution_count": 9,
   "id": "cfe6332e-0666-47e0-949c-8d2a6cb511d4",
   "metadata": {},
   "outputs": [
    {
     "name": "stdout",
     "output_type": "stream",
     "text": [
      "tensor([[1., 2., 3.],\n",
      "        [4., 5., 6.]])\n",
      "cpu\n"
     ]
    }
   ],
   "source": [
    "my_tensor = torch.tensor([[1,2,3],[4,5,6]], dtype=torch.float32)\n",
    "print(my_tensor)\n",
    "print(my_tensor.device)"
   ]
  },
  {
   "cell_type": "code",
   "execution_count": 10,
   "id": "4875f94b-30b0-466e-aa97-29951f1ec98e",
   "metadata": {},
   "outputs": [
    {
     "name": "stdout",
     "output_type": "stream",
     "text": [
      "tensor([[1., 2., 3.],\n",
      "        [4., 5., 6.]], device='cuda:0')\n",
      "cuda:0\n"
     ]
    }
   ],
   "source": [
    "my_tensor = torch.tensor([[1,2,3],[4,5,6]], dtype=torch.float32, device=device)\n",
    "print(my_tensor)\n",
    "print(my_tensor.device)"
   ]
  },
  {
   "cell_type": "code",
   "execution_count": 11,
   "id": "f3ed441f-e486-4f5d-b0e7-89ca09a05a6a",
   "metadata": {},
   "outputs": [
    {
     "name": "stdout",
     "output_type": "stream",
     "text": [
      "tensor([[1., 2., 3.],\n",
      "        [4., 5., 6.]], requires_grad=True)\n"
     ]
    }
   ],
   "source": [
    "# this is essential for back propogation\n",
    "my_tensor = torch.tensor([[1,2,3],[4,5,6]], dtype=torch.float32, requires_grad=True)\n",
    "print(my_tensor)"
   ]
  },
  {
   "cell_type": "code",
   "execution_count": 3,
   "id": "9b55a354-579d-48e0-aa48-bf7d80c2e44b",
   "metadata": {},
   "outputs": [
    {
     "name": "stdout",
     "output_type": "stream",
     "text": [
      "tensor([0.8722]) 0.8721868395805359\n"
     ]
    }
   ],
   "source": [
    "# getting value of tensors\n",
    "my_tensor = torch.rand(1)\n",
    "print(my_tensor, my_tensor.item())"
   ]
  },
  {
   "cell_type": "markdown",
   "id": "8d4e1055-bc84-48f6-856a-dfddcbe7622e",
   "metadata": {},
   "source": [
    "### Attributes of tensor"
   ]
  },
  {
   "cell_type": "code",
   "execution_count": 12,
   "id": "e0bd5a64-aff2-4e83-bb13-54924be1cb63",
   "metadata": {},
   "outputs": [
    {
     "name": "stdout",
     "output_type": "stream",
     "text": [
      "torch.float32\n",
      "cpu\n",
      "torch.Size([2, 3])\n",
      "True\n"
     ]
    }
   ],
   "source": [
    "print(my_tensor.dtype)\n",
    "print(my_tensor.device)\n",
    "print(my_tensor.shape)\n",
    "print(my_tensor.requires_grad)"
   ]
  },
  {
   "cell_type": "markdown",
   "id": "8059f943-7007-4d58-8934-fb4194920e98",
   "metadata": {},
   "source": [
    "### Other common initializations"
   ]
  },
  {
   "cell_type": "code",
   "execution_count": 13,
   "id": "e9aa0b77-c8ad-4406-b9b8-bb36303782f6",
   "metadata": {},
   "outputs": [
    {
     "name": "stdout",
     "output_type": "stream",
     "text": [
      "tensor([[0., 0., 0.],\n",
      "        [0., 0., 0.],\n",
      "        [0., 0., 0.]])\n",
      "tensor([[0., 0., 0.],\n",
      "        [0., 0., 0.],\n",
      "        [0., 0., 0.]])\n",
      "tensor([[0.2213, 0.5621, 0.8036],\n",
      "        [0.7032, 0.0961, 0.7915],\n",
      "        [0.2348, 0.6403, 0.3937]])\n",
      "tensor([[1., 1., 1.],\n",
      "        [1., 1., 1.],\n",
      "        [1., 1., 1.]])\n",
      "tensor([[1., 0., 0., 0., 0.],\n",
      "        [0., 1., 0., 0., 0.],\n",
      "        [0., 0., 1., 0., 0.],\n",
      "        [0., 0., 0., 1., 0.],\n",
      "        [0., 0., 0., 0., 1.]])\n",
      "tensor([0, 1, 2, 3, 4])\n",
      "tensor([0.0000, 0.5556, 1.1111, 1.6667, 2.2222, 2.7778, 3.3333, 3.8889, 4.4444,\n",
      "        5.0000])\n",
      "tensor([[ 0.4401, -0.2121, -1.3968,  1.1034,  0.3741]])\n",
      "tensor([[0.3818, 0.4807, 0.8207],\n",
      "        [0.4032, 0.1376, 0.3378],\n",
      "        [0.0946, 0.5839, 0.7232]])\n",
      "tensor([[0, 0, 0],\n",
      "        [0, 1, 0],\n",
      "        [0, 0, 2]])\n",
      "tensor([[1., 0., 0.],\n",
      "        [0., 1., 0.],\n",
      "        [0., 0., 1.]])\n"
     ]
    }
   ],
   "source": [
    "print(torch.empty(3,3)) # this would be uninitialized but not necessarily zeroes\n",
    "print(torch.zeros(3,3)) # array of zeroes\n",
    "print(torch.rand(3,3)) # array of uniform distribution between 0 and 1\n",
    "print(torch.ones(3,3)) # array of ones\n",
    "print(torch.eye(5,5)) # identity matrix / diagonal 1 rest 0s\n",
    "print(torch.arange(start = 0, end=5, step = 1)) # end is non-inclusive of 5. Step means it would take 'n' steps\n",
    "print(torch.linspace(start = 0, end=5, steps = 10)) # different in the sense that arg 'steps' would be the number of values\n",
    "\n",
    "print(torch.empty(size=(1,5)).normal_(mean=0, std=1)) # for normal distribution specifying mean and std \n",
    "print(torch.empty(size=(3,3)).uniform_(0,1)) # same as torch,rand() but we get to control the lower and upper limits\n",
    "\n",
    "print(torch.diag(torch.arange(3)))\n",
    "print(torch.diag(torch.ones(3)))"
   ]
  },
  {
   "cell_type": "markdown",
   "id": "e46ff322-96fb-4951-8dbe-75b030847947",
   "metadata": {},
   "source": [
    "### Converting b/w tensor types"
   ]
  },
  {
   "cell_type": "code",
   "execution_count": 14,
   "id": "de030d47-4ba5-413f-88b0-0a3d994f8e7e",
   "metadata": {},
   "outputs": [
    {
     "name": "stdout",
     "output_type": "stream",
     "text": [
      "tensor([0, 1, 2, 3]) torch.int64\n"
     ]
    }
   ],
   "source": [
    "x = torch.arange(4)\n",
    "print(x, x.dtype)"
   ]
  },
  {
   "cell_type": "code",
   "execution_count": 15,
   "id": "eeb54494-97c3-454f-89ad-ca905beba6bf",
   "metadata": {},
   "outputs": [
    {
     "name": "stdout",
     "output_type": "stream",
     "text": [
      "tensor([False,  True,  True,  True])\n",
      "tensor([0, 1, 2, 3], dtype=torch.int16)\n",
      "tensor([0, 1, 2, 3])\n",
      "tensor([0., 1., 2., 3.], dtype=torch.float16)\n",
      "tensor([0., 1., 2., 3.])\n",
      "tensor([0., 1., 2., 3.], dtype=torch.float64)\n"
     ]
    }
   ],
   "source": [
    "print(x.bool())\n",
    "print(x.short())\n",
    "print(x.long()) # imp. \n",
    "print(x.half())\n",
    "print(x.float()) # imp. \n",
    "print(x.double())"
   ]
  },
  {
   "cell_type": "markdown",
   "id": "d4b26f80-008f-4baf-bb4d-0a0ec533b4a8",
   "metadata": {},
   "source": [
    "### Conversion from numpy to tensor"
   ]
  },
  {
   "cell_type": "code",
   "execution_count": 16,
   "id": "b47d1464-f4a4-4c45-be28-4ae87796afde",
   "metadata": {
    "tags": []
   },
   "outputs": [
    {
     "name": "stdout",
     "output_type": "stream",
     "text": [
      "[[0. 0. 0. 0. 0.]\n",
      " [0. 0. 0. 0. 0.]\n",
      " [0. 0. 0. 0. 0.]\n",
      " [0. 0. 0. 0. 0.]\n",
      " [0. 0. 0. 0. 0.]] float64\n",
      "tensor([[0., 0., 0., 0., 0.],\n",
      "        [0., 0., 0., 0., 0.],\n",
      "        [0., 0., 0., 0., 0.],\n",
      "        [0., 0., 0., 0., 0.],\n",
      "        [0., 0., 0., 0., 0.]], dtype=torch.float64) torch.float64\n",
      "[[0. 0. 0. 0. 0.]\n",
      " [0. 0. 0. 0. 0.]\n",
      " [0. 0. 0. 0. 0.]\n",
      " [0. 0. 0. 0. 0.]\n",
      " [0. 0. 0. 0. 0.]] float64\n"
     ]
    }
   ],
   "source": [
    "import numpy as np\n",
    "\n",
    "x = np.zeros((5,5))\n",
    "print(x, x.dtype)\n",
    "y = torch.from_numpy(x)\n",
    "print(y, y.dtype)\n",
    "\n",
    "# We can also convert them back to numpy by\n",
    "print(y.numpy(), y.numpy().dtype)"
   ]
  },
  {
   "cell_type": "markdown",
   "id": "d084911c-aec4-4726-a82a-0233644aed00",
   "metadata": {},
   "source": [
    "### Tensor Math and Comparison Operations"
   ]
  },
  {
   "cell_type": "code",
   "execution_count": 17,
   "id": "c4bdbd94-2811-403e-bd89-5fc8090bfe51",
   "metadata": {},
   "outputs": [
    {
     "data": {
      "text/plain": [
       "(tensor([0.6660, 0.5217, 0.6264]), tensor([0.0716, 0.1513, 0.9332]))"
      ]
     },
     "execution_count": 17,
     "metadata": {},
     "output_type": "execute_result"
    }
   ],
   "source": [
    "x = torch.rand(3)\n",
    "y = torch.rand(3)\n",
    "\n",
    "x, y"
   ]
  },
  {
   "cell_type": "code",
   "execution_count": 18,
   "id": "c61ee154-58bc-428a-9d6f-835b694cd215",
   "metadata": {},
   "outputs": [
    {
     "name": "stdout",
     "output_type": "stream",
     "text": [
      "tensor([0.7376, 0.6730, 1.5596])\n",
      "tensor([0.7376, 0.6730, 1.5596])\n",
      "tensor([0.7376, 0.6730, 1.5596])\n"
     ]
    }
   ],
   "source": [
    "# Addition\n",
    "z = torch.empty(3)\n",
    "torch.add(x,y, out = z)\n",
    "print(z)\n",
    "\n",
    "z = torch.add(x,y)\n",
    "print(z)\n",
    "\n",
    "z = x+y\n",
    "print(z)"
   ]
  },
  {
   "cell_type": "code",
   "execution_count": 19,
   "id": "342cf1c7-f29b-4860-ab37-e22b02b9b792",
   "metadata": {},
   "outputs": [
    {
     "name": "stdout",
     "output_type": "stream",
     "text": [
      "tensor([ 0.5944,  0.3704, -0.3069])\n"
     ]
    }
   ],
   "source": [
    "# Subtraction\n",
    "\n",
    "z = x-y\n",
    "print(z)"
   ]
  },
  {
   "cell_type": "code",
   "execution_count": 20,
   "id": "4d071410-a96c-4109-bfe0-f18e26cba29e",
   "metadata": {},
   "outputs": [
    {
     "name": "stdout",
     "output_type": "stream",
     "text": [
      "tensor([9.2998, 3.4485, 0.6712])\n"
     ]
    }
   ],
   "source": [
    "# Division\n",
    "\n",
    "z = torch.true_divide(x,y) # possible if shapes are equal\n",
    "print(z)"
   ]
  },
  {
   "cell_type": "code",
   "execution_count": 21,
   "id": "7a41de0f-b046-45c0-9d51-4676f14f4741",
   "metadata": {},
   "outputs": [
    {
     "name": "stdout",
     "output_type": "stream",
     "text": [
      "tensor([0., 0., 0.])\n",
      "tensor([0.6660, 0.5217, 0.6264])\n",
      "tensor([0., 0., 0.])\n"
     ]
    }
   ],
   "source": [
    "# inplace operations\n",
    "tensor = torch.zeros(3)\n",
    "print(tensor)\n",
    "\n",
    "tensor.add_(x)\n",
    "print(tensor)\n",
    "\n",
    "tensor -= x\n",
    "print(tensor)"
   ]
  },
  {
   "cell_type": "code",
   "execution_count": 22,
   "id": "fc827173-377a-425c-a7b2-f9a3400e7a77",
   "metadata": {},
   "outputs": [
    {
     "name": "stdout",
     "output_type": "stream",
     "text": [
      "tensor([0.4436, 0.2722, 0.3923])\n",
      "tensor([0.4436, 0.2722, 0.3923])\n",
      "tensor([[2, 0, 0],\n",
      "        [0, 3, 0],\n",
      "        [0, 0, 4]])\n"
     ]
    },
    {
     "data": {
      "text/plain": [
       "tensor([[ 8,  0,  0],\n",
       "        [ 0, 27,  0],\n",
       "        [ 0,  0, 64]])"
      ]
     },
     "execution_count": 22,
     "metadata": {},
     "output_type": "execute_result"
    }
   ],
   "source": [
    "# Exponentiation\n",
    "\n",
    "z = x.pow(2)\n",
    "print(z)\n",
    "\n",
    "z = x ** 2\n",
    "print(z)\n",
    "\n",
    "# Matrix Exponentiation (matrixm multiplied by itself)\n",
    "matrix_exp = torch.diag(torch.arange(start = 2, end = 5))\n",
    "print(matrix_exp)\n",
    "matrix_exp.matrix_power(3)"
   ]
  },
  {
   "cell_type": "code",
   "execution_count": 23,
   "id": "58bd42b4-c6e0-4ce4-a87e-921ab83e3668",
   "metadata": {},
   "outputs": [
    {
     "name": "stdout",
     "output_type": "stream",
     "text": [
      "tensor([True, True, True])\n",
      "tensor([False, False, False])\n"
     ]
    }
   ],
   "source": [
    "# Simple Comparision (element-wise)\n",
    "\n",
    "z = x > 0\n",
    "print(z)\n",
    "\n",
    "z = x < 0\n",
    "print(z)"
   ]
  },
  {
   "cell_type": "code",
   "execution_count": 24,
   "id": "f416d8fa-3ceb-4062-8de4-1f08b7fe8d67",
   "metadata": {},
   "outputs": [
    {
     "name": "stdout",
     "output_type": "stream",
     "text": [
      "T1\n",
      "tensor([[0.7131, 0.7010, 0.0029],\n",
      "        [0.6897, 0.1618, 0.1272]])\n",
      "T2\n",
      "tensor([[0.6937, 0.1437],\n",
      "        [0.9482, 0.7711],\n",
      "        [0.7409, 0.0020]])\n",
      "Result\n",
      "tensor([[1.1615, 0.6430],\n",
      "        [0.7262, 0.2242]])\n",
      "tensor([[1.1615, 0.6430],\n",
      "        [0.7262, 0.2242]])\n"
     ]
    }
   ],
   "source": [
    "# matrix multiplication\n",
    "\n",
    "t1 = torch.rand((2,3))\n",
    "t2 = torch.rand((3,2))\n",
    "\n",
    "print(\"T1\")\n",
    "print(t1)\n",
    "print(\"T2\")\n",
    "print(t2)\n",
    "\n",
    "print(\"Result\")\n",
    "# Resultant (2x3) (3x2) -> (2x2)\n",
    "print(torch.mm(t1,t2))\n",
    "print(t1.mm(t2))"
   ]
  },
  {
   "cell_type": "code",
   "execution_count": 25,
   "id": "55377b2e-f622-44c1-a436-16663a59be1f",
   "metadata": {},
   "outputs": [
    {
     "name": "stdout",
     "output_type": "stream",
     "text": [
      "tensor([[1, 2, 3],\n",
      "        [4, 5, 6],\n",
      "        [7, 8, 9]])\n",
      "tensor([[1, 2, 3],\n",
      "        [4, 5, 6],\n",
      "        [7, 8, 9]])\n",
      "Element wise Multiplication: \n",
      "tensor([[ 1,  4,  9],\n",
      "        [16, 25, 36],\n",
      "        [49, 64, 81]])\n",
      "Matrix Multiplication: \n",
      "tensor([[ 30,  36,  42],\n",
      "        [ 66,  81,  96],\n",
      "        [102, 126, 150]])\n",
      "tensor(285)\n"
     ]
    }
   ],
   "source": [
    "# element wise multiplication\n",
    "t1 = torch.arange(start=1,end=10).reshape(3,3)\n",
    "t2 = torch.arange(start=1,end=10).reshape(3,3)\n",
    "\n",
    "print(t1)\n",
    "print(t2)\n",
    "\n",
    "print(\"Element wise Multiplication: \")\n",
    "print(t1*t2)\n",
    "print(\"Matrix Multiplication: \")\n",
    "print(t1.mm(t2))\n",
    "\n",
    "# dot product (element wise multiplication then sum of all the elements)\n",
    "t1 = torch.arange(start=1,end=10)\n",
    "t2 = torch.arange(start=1,end=10)\n",
    "\n",
    "print(torch.dot(t1,t2))"
   ]
  },
  {
   "cell_type": "code",
   "execution_count": 26,
   "id": "64ac0990-7a48-4c25-878c-a26360a9ceb0",
   "metadata": {},
   "outputs": [
    {
     "name": "stdout",
     "output_type": "stream",
     "text": [
      "torch.Size([32, 10, 20]) torch.Size([32, 20, 30])\n",
      "torch.Size([32, 10, 30])\n"
     ]
    }
   ],
   "source": [
    "# Batch Matrix Multiplication\n",
    "\n",
    "# specify batch size\n",
    "b = 32\n",
    "n = 10\n",
    "m = 20\n",
    "p = 30\n",
    "\n",
    "# so now matrices of (b, n, m) (b, m, p)\n",
    "t1 = torch.rand(b,n,m)\n",
    "t2 = torch.rand(b,m,p)\n",
    "\n",
    "print(t1.shape, t2.shape)\n",
    "\n",
    "t3 = t1.bmm(t2)\n",
    "print(t3.shape) # mul across the dimension 'm'"
   ]
  },
  {
   "cell_type": "markdown",
   "id": "3870cb50-506d-48d3-98d7-33123038789a",
   "metadata": {},
   "source": [
    "### Broadcasting"
   ]
  },
  {
   "cell_type": "code",
   "execution_count": 38,
   "id": "12c49497-d7dc-4a6f-80b4-8eb49bb3f62a",
   "metadata": {},
   "outputs": [
    {
     "name": "stdout",
     "output_type": "stream",
     "text": [
      "tensor([[1., 1., 1., 1., 1.],\n",
      "        [1., 1., 1., 1., 1.],\n",
      "        [1., 1., 1., 1., 1.],\n",
      "        [1., 1., 1., 1., 1.],\n",
      "        [1., 1., 1., 1., 1.]])\n",
      "tensor([0, 1, 2, 3, 4])\n",
      "tensor([[1., 2., 3., 4., 5.],\n",
      "        [1., 2., 3., 4., 5.],\n",
      "        [1., 2., 3., 4., 5.],\n",
      "        [1., 2., 3., 4., 5.],\n",
      "        [1., 2., 3., 4., 5.]])\n",
      "tensor([[1., 1., 1., 1., 1.],\n",
      "        [1., 1., 1., 1., 1.],\n",
      "        [1., 1., 1., 1., 1.],\n",
      "        [1., 1., 1., 1., 1.],\n",
      "        [1., 1., 1., 1., 1.]])\n"
     ]
    }
   ],
   "source": [
    "x1 = torch.ones(5,5)\n",
    "x2 = torch.arange(5)\n",
    "\n",
    "print(x1)\n",
    "print(x2)\n",
    "\n",
    "# now when multiplying this would extend the x2 to match the size of x1\n",
    "print(x1 + x2)\n",
    "print(x1 ** x2)"
   ]
  },
  {
   "cell_type": "markdown",
   "id": "8dade30a-0d91-4139-b5b2-5ccca2a0222b",
   "metadata": {},
   "source": [
    "### Some useful Tensor Math Operations\n",
    "\n",
    "For a lot of these operations we do not need to explicitly write torch.max() etc. we can directly do x.max() or x.sort() etc."
   ]
  },
  {
   "cell_type": "code",
   "execution_count": 54,
   "id": "13139269-fe38-401f-8f90-859f1404bbb0",
   "metadata": {},
   "outputs": [
    {
     "name": "stdout",
     "output_type": "stream",
     "text": [
      "tensor(75.) torch.Size([5, 5])\n",
      "tensor([ 5., 10., 15., 20., 25.])\n",
      "tensor([15., 15., 15., 15., 15.])\n"
     ]
    }
   ],
   "source": [
    "# Summation over a dimension\n",
    "print(torch.sum(x1 + x2), x1.add(x2).shape) \n",
    "\n",
    "# we have a 2d array hence we can some across both of its dimensions\n",
    "print(torch.sum(x1 + x2, axis=0)) # summing across columns\n",
    "print(torch.sum(x1 + x2, axis=1)) # summing across rows"
   ]
  },
  {
   "cell_type": "code",
   "execution_count": 89,
   "id": "e4003ebe-0707-4109-9be3-595423b293ca",
   "metadata": {},
   "outputs": [
    {
     "name": "stdout",
     "output_type": "stream",
     "text": [
      "tensor([[1., 2., 3., 4., 5.],\n",
      "        [1., 2., 3., 4., 5.],\n",
      "        [1., 2., 3., 4., 5.],\n",
      "        [1., 2., 3., 4., 5.],\n",
      "        [1., 2., 3., 4., 5.]])\n",
      "Max:  tensor(5.)\n",
      "Max:  torch.return_types.max(\n",
      "values=tensor([1., 2., 3., 4., 5.]),\n",
      "indices=tensor([0, 0, 0, 0, 0]))\n",
      "Max:  torch.return_types.max(\n",
      "values=tensor([5., 5., 5., 5., 5.]),\n",
      "indices=tensor([4, 4, 4, 4, 4]))\n",
      "Min:  tensor(1.)\n",
      "Min:  torch.return_types.min(\n",
      "values=tensor([1., 2., 3., 4., 5.]),\n",
      "indices=tensor([0, 0, 0, 0, 0]))\n",
      "Min:  torch.return_types.min(\n",
      "values=tensor([1., 1., 1., 1., 1.]),\n",
      "indices=tensor([0, 0, 0, 0, 0]))\n",
      "Vals: tensor([1., 2., 3., 4., 5.])\n",
      "Indices: tensor([0, 0, 0, 0, 0])\n"
     ]
    }
   ],
   "source": [
    "# max / min\n",
    "z = x1 + x2\n",
    "print(z)\n",
    "\n",
    "print(\"Max: \", torch.max(z))\n",
    "print(\"Max: \", torch.max(z, dim = 0))\n",
    "print(\"Max: \", torch.max(z, dim = 1))\n",
    "\n",
    "print(\"Min: \", torch.min(z))\n",
    "print(\"Min: \", torch.min(z, dim = 0))\n",
    "print(\"Min: \", torch.min(z, dim = 1))\n",
    "\n",
    "# we get a tuple from here so we can return it like this as well\n",
    "vals, inds = torch.max(z,dim = 0)\n",
    "print(\"Vals:\", vals)\n",
    "print(\"Indices:\", inds)"
   ]
  },
  {
   "cell_type": "code",
   "execution_count": 67,
   "id": "6973faa9-96d7-4f1c-bafc-62fd7dc8a774",
   "metadata": {},
   "outputs": [
    {
     "name": "stdout",
     "output_type": "stream",
     "text": [
      "tensor([[ 1.,  0., -1., -2., -3.],\n",
      "        [ 1.,  0., -1., -2., -3.],\n",
      "        [ 1.,  0., -1., -2., -3.],\n",
      "        [ 1.,  0., -1., -2., -3.],\n",
      "        [ 1.,  0., -1., -2., -3.]])\n",
      "tensor([[1., 0., 1., 2., 3.],\n",
      "        [1., 0., 1., 2., 3.],\n",
      "        [1., 0., 1., 2., 3.],\n",
      "        [1., 0., 1., 2., 3.],\n",
      "        [1., 0., 1., 2., 3.]])\n",
      "Index of max:  tensor(4)\n",
      "Index of min:  tensor(0)\n"
     ]
    }
   ],
   "source": [
    "# abs argmax argmin\n",
    "z = x1 - x2\n",
    "print(z)\n",
    "print(torch.abs(z))\n",
    "\n",
    "z = x1 + x2\n",
    "print(\"Index of max: \", torch.argmax(z)) # tensor (4) corresponds to the 4th value\n",
    "print(\"Index of min: \", torch.argmin(z))"
   ]
  },
  {
   "cell_type": "code",
   "execution_count": 77,
   "id": "67de559a-7fef-4d1d-995c-c6c9e150901b",
   "metadata": {},
   "outputs": [
    {
     "name": "stdout",
     "output_type": "stream",
     "text": [
      "tensor([1., 2., 3., 4., 5.])\n",
      "tensor([3., 3., 3., 3., 3.])\n"
     ]
    }
   ],
   "source": [
    "# mean (but for mean torch wants it to be float)\n",
    "\n",
    "print(torch.mean(z.float(), dim = 0)) # because across columns all the values are the same\n",
    "print(torch.mean(z.float(), dim = 1)) # across rows the sum is 15 so 15 / 5 = 3"
   ]
  },
  {
   "cell_type": "code",
   "execution_count": 80,
   "id": "a6ba8d40-71e0-4248-aa43-825be0ed6592",
   "metadata": {},
   "outputs": [
    {
     "name": "stdout",
     "output_type": "stream",
     "text": [
      "True\n",
      "tensor([[True, True],\n",
      "        [True, True]])\n",
      "tensor([[False, False],\n",
      "        [False,  True]])\n",
      "tensor([[ True,  True],\n",
      "        [ True, False]])\n"
     ]
    }
   ],
   "source": [
    "x = torch.rand(2,2)\n",
    "\n",
    "# element wise equal\n",
    "y = x\n",
    "print(torch.equal(x,y)) # returns a single value\n",
    "print(torch.eq(x,y)) # return a comparison for all values\n",
    "\n",
    "y = torch.rand(2,2)\n",
    "\n",
    "# other element wise comparisons\n",
    "print(torch.greater(x,y))\n",
    "print(torch.less(x,y))"
   ]
  },
  {
   "cell_type": "code",
   "execution_count": 86,
   "id": "fed54fbb-d7c1-4e54-8125-61de5ee5bbe5",
   "metadata": {},
   "outputs": [
    {
     "name": "stdout",
     "output_type": "stream",
     "text": [
      "tensor([0.6422, 0.9128, 0.3736, 0.2888, 0.8666])\n",
      "After sorting: \n",
      "torch.return_types.sort(\n",
      "values=tensor([0.2888, 0.3736, 0.6422, 0.8666, 0.9128]),\n",
      "indices=tensor([3, 2, 0, 4, 1]))\n",
      "torch.return_types.sort(\n",
      "values=tensor([0.9128, 0.8666, 0.6422, 0.3736, 0.2888]),\n",
      "indices=tensor([1, 4, 0, 2, 3]))\n"
     ]
    }
   ],
   "source": [
    "# sorting\n",
    "z = torch.rand(5)\n",
    "print(z)\n",
    "print(\"After sorting: \")\n",
    "print(torch.sort(z, descending=False))\n",
    "print(torch.sort(z, descending=True))"
   ]
  },
  {
   "cell_type": "code",
   "execution_count": 92,
   "id": "b736052b-d4ca-47da-9d4c-a3a60b241e80",
   "metadata": {},
   "outputs": [
    {
     "name": "stdout",
     "output_type": "stream",
     "text": [
      "tensor([0.0000, 0.6667, 1.3333, 2.0000, 2.6667, 3.3333, 4.0000, 4.6667, 5.3333,\n",
      "        6.0000])\n",
      "After clamping:\n",
      "tensor([4.0000, 4.0000, 4.0000, 4.0000, 4.0000, 4.0000, 4.0000, 4.6667, 5.3333,\n",
      "        6.0000])\n",
      "tensor([0.0000, 0.6667, 1.3333, 2.0000, 2.6667, 3.3333, 4.0000, 4.0000, 4.0000,\n",
      "        4.0000])\n"
     ]
    }
   ],
   "source": [
    "# clamping (used for gradient clipping)\n",
    "z = torch.linspace(start = 0, end = 6, steps = 10)\n",
    "print(z)\n",
    "print(\"After clamping:\")\n",
    "print(torch.clamp(z, min = 4)) # all values below 4 set to 4\n",
    "print(torch.clamp(z, max = 4)) # all values above 4 set to 4"
   ]
  },
  {
   "cell_type": "code",
   "execution_count": 95,
   "id": "ec710d0b-7015-4790-9603-c3efafeabab7",
   "metadata": {},
   "outputs": [
    {
     "name": "stdout",
     "output_type": "stream",
     "text": [
      "tensor(True)\n",
      "tensor(False)\n"
     ]
    }
   ],
   "source": [
    "# any: atleast one value true, all: all values must be true\n",
    "x = torch.tensor([1,0,1,1,1], dtype=torch.bool)\n",
    "\n",
    "print(torch.any(x))\n",
    "print(torch.all(x))"
   ]
  },
  {
   "cell_type": "markdown",
   "id": "6d5d5777-8fe4-4340-b35a-2f457071d45d",
   "metadata": {},
   "source": [
    "### Tensor Indexing"
   ]
  },
  {
   "cell_type": "code",
   "execution_count": 105,
   "id": "aefd3bb9-1fa6-4b21-a9f4-cf32bda92f0b",
   "metadata": {},
   "outputs": [
    {
     "name": "stdout",
     "output_type": "stream",
     "text": [
      "torch.Size([10])\n",
      "torch.Size([25])\n",
      "torch.Size([10])\n"
     ]
    }
   ],
   "source": [
    "batch = 10\n",
    "features = 25\n",
    "\n",
    "# so intialize a tensor with (batch x features)\n",
    "x = torch.rand(batch, features)\n",
    "\n",
    "print(x[2, :10].shape)\n",
    "print(x[0].shape) # same as x[0, :] we get all features of the first batch\n",
    "print(x[:, 0].shape) # getting first example of every batch"
   ]
  },
  {
   "cell_type": "code",
   "execution_count": 110,
   "id": "661cff22-3449-4f67-bb45-70051af2965f",
   "metadata": {},
   "outputs": [
    {
     "name": "stdout",
     "output_type": "stream",
     "text": [
      "tensor([0, 1, 2, 3, 4, 5, 6, 7, 8, 9])\n",
      "tensor([2, 5, 8])\n",
      "tensor([[0.2088, 0.8732, 0.5612, 0.0906, 0.5069],\n",
      "        [0.1223, 0.4928, 0.6797, 0.9107, 0.4841],\n",
      "        [0.2155, 0.2518, 0.8610, 0.3544, 0.1514]])\n",
      "tensor([0.4841, 0.2088])\n"
     ]
    }
   ],
   "source": [
    "# Fancy indexing\n",
    "x = torch.arange(10)\n",
    "ind = [2,5,8]\n",
    "\n",
    "print(x)\n",
    "print(x[ind]) # we get the exact same values from the list of indices\n",
    "\n",
    "# we can fetch in the same manner for 2D\n",
    "rows = [1,0]\n",
    "cols = [4,0]\n",
    "\n",
    "x = torch.rand(3,5)\n",
    "print(x)\n",
    "print(x[rows, cols])"
   ]
  },
  {
   "cell_type": "code",
   "execution_count": 114,
   "id": "ad7f54a8-be24-417e-a229-ba3790fd68f9",
   "metadata": {},
   "outputs": [
    {
     "name": "stdout",
     "output_type": "stream",
     "text": [
      "tensor([3, 4, 5, 6, 7])\n",
      "tensor([0, 2, 4, 6, 8])\n"
     ]
    }
   ],
   "source": [
    "# Advanced Indexing\n",
    "# picking up value satisfied by a condition\n",
    "\n",
    "x = torch.arange(10)\n",
    "print(x[(x>2) & (x<8)])\n",
    "print(x[x.remainder(2) == 0])"
   ]
  },
  {
   "cell_type": "markdown",
   "id": "1b8493ea-c369-4eb7-8bb5-a6e77ee8bb9e",
   "metadata": {},
   "source": [
    "### Some other useful Tensor operations"
   ]
  },
  {
   "cell_type": "code",
   "execution_count": 204,
   "id": "981ed970-7ecb-4785-b3e2-f4b931136926",
   "metadata": {},
   "outputs": [
    {
     "name": "stdout",
     "output_type": "stream",
     "text": [
      "tensor([ 0,  2,  4,  6,  8, 10,  6,  7,  8,  9])\n",
      "tensor([2, 4, 5, 6])\n",
      "3\n",
      "125\n",
      "tensor([[0.2378, 0.4333, 0.3479],\n",
      "        [0.3445, 0.2932, 0.3265],\n",
      "        [0.4177, 0.2735, 0.3256]])\n",
      "tensor([[0.2669, 0.3933, 0.3398],\n",
      "        [0.3369, 0.3255, 0.3376],\n",
      "        [0.2281, 0.3196, 0.4523]])\n",
      "tensor([2, 2, 2, 3, 4, 5, 6, 7, 8, 8])\n",
      "tensor([2, 2, 2, 3, 4, 5, 6, 7, 8, 8])\n",
      "True\n",
      "False\n"
     ]
    }
   ],
   "source": [
    "# Some useful operations\n",
    "\n",
    "x = torch.arange(10)\n",
    "print(torch.where(x>5, x, x*2)) # whereever x>5 return x else return x * 2\n",
    "print(torch.tensor([2,2,2,4,5,6]).unique()) # returning unique values\n",
    "\n",
    "x = torch.ones(5,5,5)\n",
    "print(x.ndimension()) # this will print the number of dimensions of x \n",
    "print(x.numel()) # returns the total number of elements in the array\n",
    "\n",
    "# using softmax function\n",
    "print(torch.nn.functional.softmax(torch.rand(3,3), dim = 0)) # across columns\n",
    "print(torch.nn.functional.softmax(torch.rand(3,3), dim = 1)) # across rows\n",
    "\n",
    "# using clip instead of clamp\n",
    "print(torch.arange(10).clamp(2,8))\n",
    "print(torch.arange(10).clip(2,8))\n",
    "\n",
    "# converting torch tensor to numpy\n",
    "x = torch.rand(4,4, device=device)\n",
    "# x.numpy().device -> would give error as need to bring to cpu to convert\n",
    "type(x.cpu().detach().numpy()) # detach is used to turn of require_grad\n",
    "\n",
    "x = torch.rand(4,4, requires_grad=True)\n",
    "print(x.requires_grad)\n",
    "print(x.detach().requires_grad)"
   ]
  },
  {
   "cell_type": "markdown",
   "id": "15435a5e-2f7e-45b6-b2c0-31501328833d",
   "metadata": {},
   "source": [
    "### Tensor Dimensions"
   ]
  },
  {
   "cell_type": "code",
   "execution_count": 156,
   "id": "48589c33-759d-4c16-8211-b28f0b2afc78",
   "metadata": {},
   "outputs": [
    {
     "name": "stdout",
     "output_type": "stream",
     "text": [
      "tensor([[0, 1, 2],\n",
      "        [3, 4, 5],\n",
      "        [6, 7, 8]])\n",
      "tensor([[0, 1, 2],\n",
      "        [3, 4, 5],\n",
      "        [6, 7, 8]])\n",
      "tensor([[0, 3, 6],\n",
      "        [1, 4, 7],\n",
      "        [2, 5, 8]])\n",
      "tensor([0, 3, 6, 1, 4, 7, 2, 5, 8])\n",
      "tensor([0, 3, 6, 1, 4, 7, 2, 5, 8])\n"
     ]
    }
   ],
   "source": [
    "# Reshaping\n",
    "\n",
    "x = torch.arange(9)\n",
    "\n",
    "# reshaping to 3x3\n",
    "print(x.view(3,3))\n",
    "print(x.reshape(3,3))\n",
    "\n",
    "z = x.view(3,3)\n",
    "\n",
    "y = z.T # tranpose essentially breaks the contigency of the memory blocks and hence cannot use view\n",
    "print(y)\n",
    "\n",
    "# y.view(9) --- throws an error. Use reshape instead\n",
    "print(y.reshape(9))\n",
    "\n",
    "# we can also do\n",
    "print(y.contiguous().view(9))"
   ]
  },
  {
   "cell_type": "markdown",
   "id": "ead0ee9b-0f8e-4475-8fbd-f20d0c327545",
   "metadata": {},
   "source": [
    "View and reshape are almost similar with the difference being that **view** works **contigous memory** while **reshape** can just make a copy and then perform reshape. But view is **faster** as compared to reshape and hence we might get a **performance boost**."
   ]
  },
  {
   "cell_type": "code",
   "execution_count": null,
   "id": "517910df-3306-4466-adc3-e14466156143",
   "metadata": {},
   "outputs": [],
   "source": [
    "# Tensor Concatenation\n",
    "\n",
    "x1 = torch.rand(2,5)\n",
    "x2 = torch.rand(2,5)\n",
    "\n",
    "print(torch.cat((x1, x2), dim = 0).shape)\n",
    "print(torch.cat((x1, x2), dim = 1).shape)"
   ]
  },
  {
   "cell_type": "code",
   "execution_count": 158,
   "id": "f35d8aa5-e946-4b26-a6ec-a3bdf0668697",
   "metadata": {
    "tags": []
   },
   "outputs": [
    {
     "name": "stdout",
     "output_type": "stream",
     "text": [
      "torch.Size([64, 5, 4])\n",
      "torch.Size([1280])\n",
      "torch.Size([64, 20])\n"
     ]
    }
   ],
   "source": [
    "# Flatten\n",
    "\n",
    "batch = 64\n",
    "x1 = torch.rand(batch,5,4)\n",
    "print(x1.shape)\n",
    "print(x1.view(-1).shape) # 64 * 5 * 4\n",
    "print(x1.view(batch, -1).shape) # 5 * 4"
   ]
  },
  {
   "cell_type": "code",
   "execution_count": 161,
   "id": "906eff9d-cd52-4ef9-97ce-a68a585d3b61",
   "metadata": {},
   "outputs": [
    {
     "name": "stdout",
     "output_type": "stream",
     "text": [
      "torch.Size([64, 4, 5])\n"
     ]
    }
   ],
   "source": [
    "# Transposing over the dimensions\n",
    "\n",
    "# 64 -> 0\n",
    "# 5 -> 1\n",
    "# 4 -> 2\n",
    "\n",
    "print(x1.permute(0,2,1).shape) # transpose is a special case of permute"
   ]
  },
  {
   "cell_type": "code",
   "execution_count": 183,
   "id": "fd39b615-f726-48c2-a739-823dc82ca02b",
   "metadata": {},
   "outputs": [
    {
     "name": "stdout",
     "output_type": "stream",
     "text": [
      "torch.Size([1, 10])\n",
      "torch.Size([10, 1])\n",
      "torch.Size([1, 1, 10])\n",
      "tensor([[[0, 1, 2, 3, 4, 5, 6, 7, 8, 9]]])\n",
      "tensor([[0, 1, 2, 3, 4, 5, 6, 7, 8, 9]])\n",
      "torch.Size([1, 10])\n"
     ]
    }
   ],
   "source": [
    "# Adding a dimension\n",
    "\n",
    "x = torch.arange(10)\n",
    "print(x.unsqueeze(0).shape) # -> 1 x 10\n",
    "print(x.unsqueeze(1).shape) # -> 10 x 1\n",
    "print(x.unsqueeze(0).unsqueeze(1).shape) # -> 1 x 10 -> 1 x 1 x 10\n",
    "\n",
    "x = torch.arange(10).unsqueeze(0).unsqueeze(1) # -> 1 x 1 x 10\n",
    "\n",
    "print(x)\n",
    "print(x.squeeze(1))\n",
    "print(x.squeeze(1).shape) # -> 1 x 10"
   ]
  }
 ],
 "metadata": {
  "kernelspec": {
   "display_name": "Python 3 (ipykernel)",
   "language": "python",
   "name": "python3"
  },
  "language_info": {
   "codemirror_mode": {
    "name": "ipython",
    "version": 3
   },
   "file_extension": ".py",
   "mimetype": "text/x-python",
   "name": "python",
   "nbconvert_exporter": "python",
   "pygments_lexer": "ipython3",
   "version": "3.7.11"
  }
 },
 "nbformat": 4,
 "nbformat_minor": 5
}
