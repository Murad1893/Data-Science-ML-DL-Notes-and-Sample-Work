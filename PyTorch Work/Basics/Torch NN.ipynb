{
 "cells": [
  {
   "cell_type": "markdown",
   "id": "bbb925ed-1d49-43fd-97a3-71efe1f6de33",
   "metadata": {},
   "source": [
    "### Torch.nn\n",
    "\n",
    "**Date:** 30/10/2021  \n",
    "**Author:** Murad Popattia"
   ]
  },
  {
   "cell_type": "markdown",
   "id": "24d203f1-aa41-43f3-b875-a2828dfcd6f6",
   "metadata": {},
   "source": [
    "## Containers\n",
    "\n",
    "- Module : the base class for all NN modules. We inherit from this in all models we make\n",
    "- Sequential\n",
    "- ModuleList : same as sequential but kept in a list\n",
    "- ModuleDict : same as sequential but kept in a dictionary\n",
    "\n",
    "## Loss Functions\n",
    "\n",
    "- MSELoss\n",
    "- CrossEntropy Loss\n",
    "- NLLLoss : negative log likelihood loss\n",
    "- BCELoss\n",
    "- BCEWithLogits Loss\n",
    "\n",
    "## Activations\n",
    "\n",
    "- Relu\n",
    "- Leaky Relu\n",
    "- Sigmoid\n",
    "- Tanh\n",
    "- Softmax\n",
    "\n",
    "## Layers\n",
    "\n",
    "#### Basic\n",
    "- linear\n",
    "\n",
    "#### Convolutional Layers: \n",
    "- conv1d\n",
    "- conv2d\n",
    "- maxpool1d\n",
    "- maxpool2d\n",
    "- avgpool1d\n",
    "- avgpool2d\n",
    "\n",
    "#### Regularization Layers:\n",
    "- batchnorm1d\n",
    "- batchnorm2d\n",
    "- layernorm\n",
    "- dropout\n",
    "\n",
    "#### Recurrent Layers\n",
    "- lstm\n",
    "- gru\n",
    "- transformer\n",
    "\n",
    "#### NLP\n",
    "- embedding\n"
   ]
  },
  {
   "cell_type": "code",
   "execution_count": 1,
   "id": "a9b35742-2ec3-40f0-94c6-5ded839a670c",
   "metadata": {},
   "outputs": [],
   "source": [
    "import torch\n",
    "import torch.nn as nn"
   ]
  },
  {
   "cell_type": "code",
   "execution_count": 38,
   "id": "ce1cfea7-01fc-47f3-ab7d-66849ffc2725",
   "metadata": {},
   "outputs": [],
   "source": [
    "class Model(nn.Module):\n",
    "    def __init__(self):\n",
    "        super().__init__()\n",
    "        \n",
    "        # now we can write our NN\n",
    "        self.layer1 = nn.Linear(128, 32)\n",
    "        self.layer2 = nn.Linear(32, 16)\n",
    "        self.layer3 = nn.Linear(16, 1)\n",
    "        \n",
    "    def forward(self, features):\n",
    "        # features of shape (32,128) where 32 is my batch size\n",
    "        x = self.layer1(features) # 32 x 32\n",
    "        x = self.layer2(x) #  32 x 16\n",
    "        x = self.layer3(x) # 32 x 1\n",
    "        \n",
    "        return x # we return the output\n",
    "    \n",
    "class Model1(nn.Module):\n",
    "    def __init__(self):\n",
    "        super().__init__()\n",
    "        \n",
    "        # we can also use nn.Sequential\n",
    "        self.base = nn.Sequential(\n",
    "            nn.Linear(128, 32),\n",
    "            nn.Linear(32, 16),\n",
    "            nn.Linear(16, 1)\n",
    "        )\n",
    "        \n",
    "    def forward(self, features):\n",
    "        # features of shape (32,128) where 32 is my batch size\n",
    "        x = self.base(features)\n",
    "        \n",
    "        return x # we return the output\n",
    "    "
   ]
  },
  {
   "cell_type": "code",
   "execution_count": 14,
   "id": "053ef65d-5454-4ec0-8efd-fad9c79ac4b9",
   "metadata": {},
   "outputs": [
    {
     "name": "stdout",
     "output_type": "stream",
     "text": [
      "torch.Size([32, 128])\n"
     ]
    }
   ],
   "source": [
    "model = Model()\n",
    "features = torch.rand(32, 128)\n",
    "print(features.shape)"
   ]
  },
  {
   "cell_type": "code",
   "execution_count": 16,
   "id": "d9962528-d96b-4e0d-8c7d-abaff239b233",
   "metadata": {},
   "outputs": [
    {
     "data": {
      "text/plain": [
       "torch.Size([32, 1])"
      ]
     },
     "execution_count": 16,
     "metadata": {},
     "output_type": "execute_result"
    }
   ],
   "source": [
    "output = model(features)\n",
    "output.shape"
   ]
  },
  {
   "cell_type": "code",
   "execution_count": 17,
   "id": "f9288356-eb9c-4185-b02d-758595d7918d",
   "metadata": {},
   "outputs": [
    {
     "data": {
      "text/plain": [
       "device(type='cpu')"
      ]
     },
     "execution_count": 17,
     "metadata": {},
     "output_type": "execute_result"
    }
   ],
   "source": [
    "features.device"
   ]
  },
  {
   "cell_type": "code",
   "execution_count": 18,
   "id": "fcdcd499-6396-4c4a-bc8d-1b4992328ef7",
   "metadata": {},
   "outputs": [],
   "source": [
    "# incase we want to move them to cuda\n",
    "device = \"cuda\" if torch.cuda.is_available() else \"cpu\""
   ]
  },
  {
   "cell_type": "code",
   "execution_count": 27,
   "id": "96bcf2b1-f87c-4dcf-bff3-cb6a4cd486e6",
   "metadata": {},
   "outputs": [],
   "source": [
    "features = features.to(device)\n",
    "model = Model()\n",
    "model.to(device)\n",
    "output = model(features)"
   ]
  },
  {
   "cell_type": "code",
   "execution_count": 36,
   "id": "d72f4b04-6714-44c2-b38e-6922933a7d2b",
   "metadata": {},
   "outputs": [
    {
     "data": {
      "text/plain": [
       "(torch.Size([32, 1]), device(type='cuda', index=0))"
      ]
     },
     "execution_count": 36,
     "metadata": {},
     "output_type": "execute_result"
    }
   ],
   "source": [
    "output.shape, output.device"
   ]
  },
  {
   "cell_type": "code",
   "execution_count": 39,
   "id": "e97ead31-0255-400a-83dd-7073d63cf8b0",
   "metadata": {},
   "outputs": [],
   "source": [
    "features = features.to(device)\n",
    "model = Model1()\n",
    "model.to(device)\n",
    "output = model(features)"
   ]
  },
  {
   "cell_type": "code",
   "execution_count": 40,
   "id": "42b96b61-8d36-4520-b95e-a5d3c7a6b825",
   "metadata": {},
   "outputs": [
    {
     "data": {
      "text/plain": [
       "(torch.Size([32, 1]), device(type='cuda', index=0))"
      ]
     },
     "execution_count": 40,
     "metadata": {},
     "output_type": "execute_result"
    }
   ],
   "source": [
    "output.shape, output.device"
   ]
  }
 ],
 "metadata": {
  "kernelspec": {
   "display_name": "Python 3 (ipykernel)",
   "language": "python",
   "name": "python3"
  },
  "language_info": {
   "codemirror_mode": {
    "name": "ipython",
    "version": 3
   },
   "file_extension": ".py",
   "mimetype": "text/x-python",
   "name": "python",
   "nbconvert_exporter": "python",
   "pygments_lexer": "ipython3",
   "version": "3.7.11"
  }
 },
 "nbformat": 4,
 "nbformat_minor": 5
}
